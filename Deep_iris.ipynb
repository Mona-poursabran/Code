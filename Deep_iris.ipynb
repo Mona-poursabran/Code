{
  "nbformat": 4,
  "nbformat_minor": 0,
  "metadata": {
    "colab": {
      "name": "Deep iris",
      "provenance": [],
      "collapsed_sections": []
    },
    "kernelspec": {
      "name": "python3",
      "display_name": "Python 3"
    }
  },
  "cells": [
    {
      "cell_type": "code",
      "metadata": {
        "id": "MoPZyvbPbR-1"
      },
      "source": [
        "import numpy as np\r\n",
        "import matplotlib.pyplot as plt\r\n",
        "from sklearn.datasets import load_iris\r\n",
        "from sklearn.model_selection import train_test_split\r\n",
        "import keras\r\n",
        "from keras.models import Sequential\r\n",
        "from keras.layers import Dense, Dropout, Flatten"
      ],
      "execution_count": 1,
      "outputs": []
    },
    {
      "cell_type": "code",
      "metadata": {
        "id": "Q8tAuZfqb2HK",
        "colab": {
          "base_uri": "https://localhost:8080/"
        },
        "outputId": "354a557a-4c4e-45ed-ec2b-3241099f529b"
      },
      "source": [
        "data = load_iris()\r\n",
        "x = data.data\r\n",
        "y= data.target.reshape(-1, 1)\r\n",
        "y.shape"
      ],
      "execution_count": 2,
      "outputs": [
        {
          "output_type": "execute_result",
          "data": {
            "text/plain": [
              "(150, 1)"
            ]
          },
          "metadata": {
            "tags": []
          },
          "execution_count": 2
        }
      ]
    },
    {
      "cell_type": "markdown",
      "metadata": {
        "id": "oVBdmCQe05Gx"
      },
      "source": [
        "## ***One hot***"
      ]
    },
    {
      "cell_type": "code",
      "metadata": {
        "id": "D-CP00g1oKQt",
        "colab": {
          "base_uri": "https://localhost:8080/"
        },
        "outputId": "9de06790-93b8-4e4a-dec4-a520cc5cfd69"
      },
      "source": [
        "y = keras.utils.to_categorical(y, num_classes=3)\r\n",
        "y.shape"
      ],
      "execution_count": 3,
      "outputs": [
        {
          "output_type": "execute_result",
          "data": {
            "text/plain": [
              "(150, 3)"
            ]
          },
          "metadata": {
            "tags": []
          },
          "execution_count": 3
        }
      ]
    },
    {
      "cell_type": "code",
      "metadata": {
        "id": "BM0bUE0RctLi",
        "colab": {
          "base_uri": "https://localhost:8080/"
        },
        "outputId": "11744fed-12b9-4e45-d52e-a30a8b084fa4"
      },
      "source": [
        "x_train, x_test, y_train, y_test = train_test_split(x, y, test_size= 0.2)\r\n",
        "y_train.shape"
      ],
      "execution_count": 4,
      "outputs": [
        {
          "output_type": "execute_result",
          "data": {
            "text/plain": [
              "(120, 3)"
            ]
          },
          "metadata": {
            "tags": []
          },
          "execution_count": 4
        }
      ]
    },
    {
      "cell_type": "code",
      "metadata": {
        "id": "hEO3plZjdmTU"
      },
      "source": [
        "model = Sequential()\r\n",
        "model.add (Dense(10, activation='relu', input_dim = 4))\r\n",
        "model.add(Dense(10, activation='relu'))\r\n",
        "model.add(Dense(3, activation='softmax'))\r\n"
      ],
      "execution_count": 5,
      "outputs": []
    },
    {
      "cell_type": "code",
      "metadata": {
        "colab": {
          "base_uri": "https://localhost:8080/"
        },
        "id": "5D74fnk6xSb4",
        "outputId": "60912b10-2169-4659-87c7-992cf4bfe37c"
      },
      "source": [
        "model.summary()"
      ],
      "execution_count": 6,
      "outputs": [
        {
          "output_type": "stream",
          "text": [
            "Model: \"sequential\"\n",
            "_________________________________________________________________\n",
            "Layer (type)                 Output Shape              Param #   \n",
            "=================================================================\n",
            "dense (Dense)                (None, 10)                50        \n",
            "_________________________________________________________________\n",
            "dense_1 (Dense)              (None, 10)                110       \n",
            "_________________________________________________________________\n",
            "dense_2 (Dense)              (None, 3)                 33        \n",
            "=================================================================\n",
            "Total params: 193\n",
            "Trainable params: 193\n",
            "Non-trainable params: 0\n",
            "_________________________________________________________________\n"
          ],
          "name": "stdout"
        }
      ]
    },
    {
      "cell_type": "code",
      "metadata": {
        "id": "nVmZlreVgXuK"
      },
      "source": [
        "from keras.optimizers import Adam\r\n",
        "optimizer = Adam(lr=0.001)\r\n",
        "model.compile(optimizer, \r\n",
        "              loss ='categorical_crossentropy', \r\n",
        "              metrics=['accuracy'])"
      ],
      "execution_count": 7,
      "outputs": []
    },
    {
      "cell_type": "code",
      "metadata": {
        "colab": {
          "base_uri": "https://localhost:8080/"
        },
        "id": "luPsbLOr4GT4",
        "outputId": "1ec6849c-b29a-42d0-dbe3-f1fcd29ce97c"
      },
      "source": [
        "y_train.shape"
      ],
      "execution_count": null,
      "outputs": [
        {
          "output_type": "execute_result",
          "data": {
            "text/plain": [
              "(120, 3)"
            ]
          },
          "metadata": {
            "tags": []
          },
          "execution_count": 41
        }
      ]
    },
    {
      "cell_type": "code",
      "metadata": {
        "colab": {
          "base_uri": "https://localhost:8080/"
        },
        "id": "RQu4V8qah5hW",
        "outputId": "b0a26d66-bd19-4c90-a119-676cb89bf995"
      },
      "source": [
        "model.fit(x_train, y_train, epochs=200, batch_size=5)"
      ],
      "execution_count": 9,
      "outputs": [
        {
          "output_type": "stream",
          "text": [
            "Epoch 1/200\n",
            "24/24 [==============================] - 1s 1ms/step - loss: 2.7311 - accuracy: 0.3312\n",
            "Epoch 2/200\n",
            "24/24 [==============================] - 0s 989us/step - loss: 1.3891 - accuracy: 0.3202\n",
            "Epoch 3/200\n",
            "24/24 [==============================] - 0s 1ms/step - loss: 0.8446 - accuracy: 0.7276\n",
            "Epoch 4/200\n",
            "24/24 [==============================] - 0s 959us/step - loss: 0.8065 - accuracy: 0.6116\n",
            "Epoch 5/200\n",
            "24/24 [==============================] - 0s 1ms/step - loss: 0.7116 - accuracy: 0.7034\n",
            "Epoch 6/200\n",
            "24/24 [==============================] - 0s 968us/step - loss: 0.6696 - accuracy: 0.7408\n",
            "Epoch 7/200\n",
            "24/24 [==============================] - 0s 1ms/step - loss: 0.6779 - accuracy: 0.6752\n",
            "Epoch 8/200\n",
            "24/24 [==============================] - 0s 1ms/step - loss: 0.6439 - accuracy: 0.6982\n",
            "Epoch 9/200\n",
            "24/24 [==============================] - 0s 1ms/step - loss: 0.6180 - accuracy: 0.6934\n",
            "Epoch 10/200\n",
            "24/24 [==============================] - 0s 1ms/step - loss: 0.5875 - accuracy: 0.7059\n",
            "Epoch 11/200\n",
            "24/24 [==============================] - 0s 1ms/step - loss: 0.6068 - accuracy: 0.6533\n",
            "Epoch 12/200\n",
            "24/24 [==============================] - 0s 1ms/step - loss: 0.5687 - accuracy: 0.6912\n",
            "Epoch 13/200\n",
            "24/24 [==============================] - 0s 1ms/step - loss: 0.5441 - accuracy: 0.6811\n",
            "Epoch 14/200\n",
            "24/24 [==============================] - 0s 1ms/step - loss: 0.5425 - accuracy: 0.6570\n",
            "Epoch 15/200\n",
            "24/24 [==============================] - 0s 1ms/step - loss: 0.4839 - accuracy: 0.7270\n",
            "Epoch 16/200\n",
            "24/24 [==============================] - 0s 1ms/step - loss: 0.4916 - accuracy: 0.7071\n",
            "Epoch 17/200\n",
            "24/24 [==============================] - 0s 1ms/step - loss: 0.5386 - accuracy: 0.6414\n",
            "Epoch 18/200\n",
            "24/24 [==============================] - 0s 1ms/step - loss: 0.4642 - accuracy: 0.7266\n",
            "Epoch 19/200\n",
            "24/24 [==============================] - 0s 1ms/step - loss: 0.4186 - accuracy: 0.7526\n",
            "Epoch 20/200\n",
            "24/24 [==============================] - 0s 1ms/step - loss: 0.4768 - accuracy: 0.7022\n",
            "Epoch 21/200\n",
            "24/24 [==============================] - 0s 1ms/step - loss: 0.4667 - accuracy: 0.7574\n",
            "Epoch 22/200\n",
            "24/24 [==============================] - 0s 1ms/step - loss: 0.4198 - accuracy: 0.7550\n",
            "Epoch 23/200\n",
            "24/24 [==============================] - 0s 1ms/step - loss: 0.4024 - accuracy: 0.7965\n",
            "Epoch 24/200\n",
            "24/24 [==============================] - 0s 1ms/step - loss: 0.4201 - accuracy: 0.8653\n",
            "Epoch 25/200\n",
            "24/24 [==============================] - 0s 1ms/step - loss: 0.3978 - accuracy: 0.8702\n",
            "Epoch 26/200\n",
            "24/24 [==============================] - 0s 1ms/step - loss: 0.3945 - accuracy: 0.8825\n",
            "Epoch 27/200\n",
            "24/24 [==============================] - 0s 1ms/step - loss: 0.3819 - accuracy: 0.9018\n",
            "Epoch 28/200\n",
            "24/24 [==============================] - 0s 1ms/step - loss: 0.3385 - accuracy: 0.9123\n",
            "Epoch 29/200\n",
            "24/24 [==============================] - 0s 1ms/step - loss: 0.3379 - accuracy: 0.9309\n",
            "Epoch 30/200\n",
            "24/24 [==============================] - 0s 1ms/step - loss: 0.3124 - accuracy: 0.9360\n",
            "Epoch 31/200\n",
            "24/24 [==============================] - 0s 1ms/step - loss: 0.2936 - accuracy: 0.9632\n",
            "Epoch 32/200\n",
            "24/24 [==============================] - 0s 1ms/step - loss: 0.3184 - accuracy: 0.9385\n",
            "Epoch 33/200\n",
            "24/24 [==============================] - 0s 1ms/step - loss: 0.3247 - accuracy: 0.9632\n",
            "Epoch 34/200\n",
            "24/24 [==============================] - 0s 1ms/step - loss: 0.2827 - accuracy: 0.9580\n",
            "Epoch 35/200\n",
            "24/24 [==============================] - 0s 900us/step - loss: 0.2512 - accuracy: 0.9750\n",
            "Epoch 36/200\n",
            "24/24 [==============================] - 0s 1ms/step - loss: 0.2769 - accuracy: 0.9617\n",
            "Epoch 37/200\n",
            "24/24 [==============================] - 0s 1ms/step - loss: 0.2495 - accuracy: 0.9690\n",
            "Epoch 38/200\n",
            "24/24 [==============================] - 0s 1ms/step - loss: 0.2223 - accuracy: 0.9659\n",
            "Epoch 39/200\n",
            "24/24 [==============================] - 0s 1ms/step - loss: 0.2457 - accuracy: 0.9728\n",
            "Epoch 40/200\n",
            "24/24 [==============================] - 0s 1ms/step - loss: 0.2213 - accuracy: 0.9799\n",
            "Epoch 41/200\n",
            "24/24 [==============================] - 0s 1ms/step - loss: 0.2146 - accuracy: 0.9849\n",
            "Epoch 42/200\n",
            "24/24 [==============================] - 0s 1ms/step - loss: 0.2295 - accuracy: 0.9669\n",
            "Epoch 43/200\n",
            "24/24 [==============================] - 0s 836us/step - loss: 0.2329 - accuracy: 0.9711\n",
            "Epoch 44/200\n",
            "24/24 [==============================] - 0s 744us/step - loss: 0.2180 - accuracy: 0.9354\n",
            "Epoch 45/200\n",
            "24/24 [==============================] - 0s 775us/step - loss: 0.2279 - accuracy: 0.9566\n",
            "Epoch 46/200\n",
            "24/24 [==============================] - 0s 1ms/step - loss: 0.2533 - accuracy: 0.9245\n",
            "Epoch 47/200\n",
            "24/24 [==============================] - 0s 1ms/step - loss: 0.1757 - accuracy: 0.9513\n",
            "Epoch 48/200\n",
            "24/24 [==============================] - 0s 1ms/step - loss: 0.1912 - accuracy: 0.9476\n",
            "Epoch 49/200\n",
            "24/24 [==============================] - 0s 1ms/step - loss: 0.1558 - accuracy: 0.9789\n",
            "Epoch 50/200\n",
            "24/24 [==============================] - 0s 1ms/step - loss: 0.1585 - accuracy: 0.9757\n",
            "Epoch 51/200\n",
            "24/24 [==============================] - 0s 1ms/step - loss: 0.1670 - accuracy: 0.9575\n",
            "Epoch 52/200\n",
            "24/24 [==============================] - 0s 1ms/step - loss: 0.1709 - accuracy: 0.9562\n",
            "Epoch 53/200\n",
            "24/24 [==============================] - 0s 1ms/step - loss: 0.1352 - accuracy: 0.9736\n",
            "Epoch 54/200\n",
            "24/24 [==============================] - 0s 1ms/step - loss: 0.1613 - accuracy: 0.9621\n",
            "Epoch 55/200\n",
            "24/24 [==============================] - 0s 1ms/step - loss: 0.2224 - accuracy: 0.9426\n",
            "Epoch 56/200\n",
            "24/24 [==============================] - 0s 1ms/step - loss: 0.1617 - accuracy: 0.9691\n",
            "Epoch 57/200\n",
            "24/24 [==============================] - 0s 1ms/step - loss: 0.1347 - accuracy: 0.9713\n",
            "Epoch 58/200\n",
            "24/24 [==============================] - 0s 1ms/step - loss: 0.1516 - accuracy: 0.9668\n",
            "Epoch 59/200\n",
            "24/24 [==============================] - 0s 1ms/step - loss: 0.1576 - accuracy: 0.9513\n",
            "Epoch 60/200\n",
            "24/24 [==============================] - 0s 1ms/step - loss: 0.1405 - accuracy: 0.9648\n",
            "Epoch 61/200\n",
            "24/24 [==============================] - 0s 1ms/step - loss: 0.1435 - accuracy: 0.9651\n",
            "Epoch 62/200\n",
            "24/24 [==============================] - 0s 1ms/step - loss: 0.1706 - accuracy: 0.9446\n",
            "Epoch 63/200\n",
            "24/24 [==============================] - 0s 1ms/step - loss: 0.1089 - accuracy: 0.9923\n",
            "Epoch 64/200\n",
            "24/24 [==============================] - 0s 1ms/step - loss: 0.1390 - accuracy: 0.9669\n",
            "Epoch 65/200\n",
            "24/24 [==============================] - 0s 1ms/step - loss: 0.1429 - accuracy: 0.9635\n",
            "Epoch 66/200\n",
            "24/24 [==============================] - 0s 1ms/step - loss: 0.1518 - accuracy: 0.9643\n",
            "Epoch 67/200\n",
            "24/24 [==============================] - 0s 1ms/step - loss: 0.1705 - accuracy: 0.9435\n",
            "Epoch 68/200\n",
            "24/24 [==============================] - 0s 1ms/step - loss: 0.1761 - accuracy: 0.9286\n",
            "Epoch 69/200\n",
            "24/24 [==============================] - 0s 983us/step - loss: 0.1147 - accuracy: 0.9655\n",
            "Epoch 70/200\n",
            "24/24 [==============================] - 0s 804us/step - loss: 0.1053 - accuracy: 0.9911\n",
            "Epoch 71/200\n",
            "24/24 [==============================] - 0s 1ms/step - loss: 0.1438 - accuracy: 0.9257\n",
            "Epoch 72/200\n",
            "24/24 [==============================] - 0s 1ms/step - loss: 0.1509 - accuracy: 0.9469\n",
            "Epoch 73/200\n",
            "24/24 [==============================] - 0s 1ms/step - loss: 0.1067 - accuracy: 0.9893\n",
            "Epoch 74/200\n",
            "24/24 [==============================] - 0s 1ms/step - loss: 0.1036 - accuracy: 0.9926\n",
            "Epoch 75/200\n",
            "24/24 [==============================] - 0s 1ms/step - loss: 0.1080 - accuracy: 0.9572\n",
            "Epoch 76/200\n",
            "24/24 [==============================] - 0s 1ms/step - loss: 0.1116 - accuracy: 0.9523\n",
            "Epoch 77/200\n",
            "24/24 [==============================] - 0s 1ms/step - loss: 0.0976 - accuracy: 0.9837\n",
            "Epoch 78/200\n",
            "24/24 [==============================] - 0s 1ms/step - loss: 0.1131 - accuracy: 0.9647\n",
            "Epoch 79/200\n",
            "24/24 [==============================] - 0s 1ms/step - loss: 0.1179 - accuracy: 0.9664\n",
            "Epoch 80/200\n",
            "24/24 [==============================] - 0s 1ms/step - loss: 0.1087 - accuracy: 0.9762\n",
            "Epoch 81/200\n",
            "24/24 [==============================] - 0s 1ms/step - loss: 0.1150 - accuracy: 0.9773\n",
            "Epoch 82/200\n",
            "24/24 [==============================] - 0s 1ms/step - loss: 0.1093 - accuracy: 0.9602\n",
            "Epoch 83/200\n",
            "24/24 [==============================] - 0s 1ms/step - loss: 0.0792 - accuracy: 0.9797\n",
            "Epoch 84/200\n",
            "24/24 [==============================] - 0s 2ms/step - loss: 0.1049 - accuracy: 0.9561\n",
            "Epoch 85/200\n",
            "24/24 [==============================] - 0s 1ms/step - loss: 0.1347 - accuracy: 0.9630\n",
            "Epoch 86/200\n",
            "24/24 [==============================] - 0s 1ms/step - loss: 0.1158 - accuracy: 0.9673\n",
            "Epoch 87/200\n",
            "24/24 [==============================] - 0s 2ms/step - loss: 0.0939 - accuracy: 0.9767\n",
            "Epoch 88/200\n",
            "24/24 [==============================] - 0s 1ms/step - loss: 0.0694 - accuracy: 0.9899\n",
            "Epoch 89/200\n",
            "24/24 [==============================] - 0s 1ms/step - loss: 0.1321 - accuracy: 0.9316\n",
            "Epoch 90/200\n",
            "24/24 [==============================] - 0s 2ms/step - loss: 0.1036 - accuracy: 0.9740\n",
            "Epoch 91/200\n",
            "24/24 [==============================] - 0s 1ms/step - loss: 0.1322 - accuracy: 0.9393\n",
            "Epoch 92/200\n",
            "24/24 [==============================] - 0s 1ms/step - loss: 0.0820 - accuracy: 0.9792\n",
            "Epoch 93/200\n",
            "24/24 [==============================] - 0s 1ms/step - loss: 0.0916 - accuracy: 0.9890\n",
            "Epoch 94/200\n",
            "24/24 [==============================] - 0s 1ms/step - loss: 0.1442 - accuracy: 0.9338\n",
            "Epoch 95/200\n",
            "24/24 [==============================] - 0s 1ms/step - loss: 0.0896 - accuracy: 0.9728\n",
            "Epoch 96/200\n",
            "24/24 [==============================] - 0s 1ms/step - loss: 0.0865 - accuracy: 0.9849\n",
            "Epoch 97/200\n",
            "24/24 [==============================] - 0s 1ms/step - loss: 0.0990 - accuracy: 0.9719\n",
            "Epoch 98/200\n",
            "24/24 [==============================] - 0s 1ms/step - loss: 0.0966 - accuracy: 0.9698\n",
            "Epoch 99/200\n",
            "24/24 [==============================] - 0s 1ms/step - loss: 0.0971 - accuracy: 0.9722\n",
            "Epoch 100/200\n",
            "24/24 [==============================] - 0s 1ms/step - loss: 0.1396 - accuracy: 0.9362\n",
            "Epoch 101/200\n",
            "24/24 [==============================] - 0s 1ms/step - loss: 0.0850 - accuracy: 0.9853\n",
            "Epoch 102/200\n",
            "24/24 [==============================] - 0s 1ms/step - loss: 0.0876 - accuracy: 0.9794\n",
            "Epoch 103/200\n",
            "24/24 [==============================] - 0s 1ms/step - loss: 0.0957 - accuracy: 0.9670\n",
            "Epoch 104/200\n",
            "24/24 [==============================] - 0s 1ms/step - loss: 0.0949 - accuracy: 0.9640\n",
            "Epoch 105/200\n",
            "24/24 [==============================] - 0s 1ms/step - loss: 0.1235 - accuracy: 0.9498\n",
            "Epoch 106/200\n",
            "24/24 [==============================] - 0s 1ms/step - loss: 0.0792 - accuracy: 0.9829\n",
            "Epoch 107/200\n",
            "24/24 [==============================] - 0s 1ms/step - loss: 0.1053 - accuracy: 0.9535\n",
            "Epoch 108/200\n",
            "24/24 [==============================] - 0s 1ms/step - loss: 0.0956 - accuracy: 0.9556\n",
            "Epoch 109/200\n",
            "24/24 [==============================] - 0s 1ms/step - loss: 0.0987 - accuracy: 0.9571\n",
            "Epoch 110/200\n",
            "24/24 [==============================] - 0s 1ms/step - loss: 0.0943 - accuracy: 0.9620\n",
            "Epoch 111/200\n",
            "24/24 [==============================] - 0s 1ms/step - loss: 0.1200 - accuracy: 0.9604\n",
            "Epoch 112/200\n",
            "24/24 [==============================] - 0s 1ms/step - loss: 0.0710 - accuracy: 0.9841\n",
            "Epoch 113/200\n",
            "24/24 [==============================] - 0s 1ms/step - loss: 0.0694 - accuracy: 0.9821\n",
            "Epoch 114/200\n",
            "24/24 [==============================] - 0s 1ms/step - loss: 0.1045 - accuracy: 0.9817\n",
            "Epoch 115/200\n",
            "24/24 [==============================] - 0s 1ms/step - loss: 0.0610 - accuracy: 0.9799\n",
            "Epoch 116/200\n",
            "24/24 [==============================] - 0s 970us/step - loss: 0.0921 - accuracy: 0.9810\n",
            "Epoch 117/200\n",
            "24/24 [==============================] - 0s 830us/step - loss: 0.1260 - accuracy: 0.9460\n",
            "Epoch 118/200\n",
            "24/24 [==============================] - 0s 1ms/step - loss: 0.0926 - accuracy: 0.9759\n",
            "Epoch 119/200\n",
            "24/24 [==============================] - 0s 1ms/step - loss: 0.0881 - accuracy: 0.9842\n",
            "Epoch 120/200\n",
            "24/24 [==============================] - 0s 2ms/step - loss: 0.0769 - accuracy: 0.9752\n",
            "Epoch 121/200\n",
            "24/24 [==============================] - 0s 1ms/step - loss: 0.1221 - accuracy: 0.9536\n",
            "Epoch 122/200\n",
            "24/24 [==============================] - 0s 1ms/step - loss: 0.0850 - accuracy: 0.9838\n",
            "Epoch 123/200\n",
            "24/24 [==============================] - 0s 1ms/step - loss: 0.0923 - accuracy: 0.9770\n",
            "Epoch 124/200\n",
            "24/24 [==============================] - 0s 1ms/step - loss: 0.0787 - accuracy: 0.9569\n",
            "Epoch 125/200\n",
            "24/24 [==============================] - 0s 1ms/step - loss: 0.0517 - accuracy: 0.9906\n",
            "Epoch 126/200\n",
            "24/24 [==============================] - 0s 1ms/step - loss: 0.0555 - accuracy: 0.9934\n",
            "Epoch 127/200\n",
            "24/24 [==============================] - 0s 1ms/step - loss: 0.1014 - accuracy: 0.9617\n",
            "Epoch 128/200\n",
            "24/24 [==============================] - 0s 1ms/step - loss: 0.1107 - accuracy: 0.9488\n",
            "Epoch 129/200\n",
            "24/24 [==============================] - 0s 1ms/step - loss: 0.0911 - accuracy: 0.9735\n",
            "Epoch 130/200\n",
            "24/24 [==============================] - 0s 1ms/step - loss: 0.0830 - accuracy: 0.9667\n",
            "Epoch 131/200\n",
            "24/24 [==============================] - 0s 1ms/step - loss: 0.1112 - accuracy: 0.9433\n",
            "Epoch 132/200\n",
            "24/24 [==============================] - 0s 1ms/step - loss: 0.0619 - accuracy: 0.9839\n",
            "Epoch 133/200\n",
            "24/24 [==============================] - 0s 1ms/step - loss: 0.0611 - accuracy: 0.9809\n",
            "Epoch 134/200\n",
            "24/24 [==============================] - 0s 1ms/step - loss: 0.0693 - accuracy: 0.9785\n",
            "Epoch 135/200\n",
            "24/24 [==============================] - 0s 1ms/step - loss: 0.1149 - accuracy: 0.9356\n",
            "Epoch 136/200\n",
            "24/24 [==============================] - 0s 2ms/step - loss: 0.0759 - accuracy: 0.9805\n",
            "Epoch 137/200\n",
            "24/24 [==============================] - 0s 2ms/step - loss: 0.1136 - accuracy: 0.9501\n",
            "Epoch 138/200\n",
            "24/24 [==============================] - 0s 1ms/step - loss: 0.0884 - accuracy: 0.9564\n",
            "Epoch 139/200\n",
            "24/24 [==============================] - 0s 1ms/step - loss: 0.0934 - accuracy: 0.9620\n",
            "Epoch 140/200\n",
            "24/24 [==============================] - 0s 2ms/step - loss: 0.0505 - accuracy: 0.9816\n",
            "Epoch 141/200\n",
            "24/24 [==============================] - 0s 1ms/step - loss: 0.0991 - accuracy: 0.9471\n",
            "Epoch 142/200\n",
            "24/24 [==============================] - 0s 1ms/step - loss: 0.0685 - accuracy: 0.9837\n",
            "Epoch 143/200\n",
            "24/24 [==============================] - 0s 1ms/step - loss: 0.1210 - accuracy: 0.9197\n",
            "Epoch 144/200\n",
            "24/24 [==============================] - 0s 1ms/step - loss: 0.0735 - accuracy: 0.9781\n",
            "Epoch 145/200\n",
            "24/24 [==============================] - 0s 1ms/step - loss: 0.0810 - accuracy: 0.9737\n",
            "Epoch 146/200\n",
            "24/24 [==============================] - 0s 1ms/step - loss: 0.0432 - accuracy: 0.9774\n",
            "Epoch 147/200\n",
            "24/24 [==============================] - 0s 2ms/step - loss: 0.0854 - accuracy: 0.9565\n",
            "Epoch 148/200\n",
            "24/24 [==============================] - 0s 1ms/step - loss: 0.0597 - accuracy: 0.9753\n",
            "Epoch 149/200\n",
            "24/24 [==============================] - 0s 1ms/step - loss: 0.1128 - accuracy: 0.9524\n",
            "Epoch 150/200\n",
            "24/24 [==============================] - 0s 1ms/step - loss: 0.1045 - accuracy: 0.9594\n",
            "Epoch 151/200\n",
            "24/24 [==============================] - 0s 1ms/step - loss: 0.1067 - accuracy: 0.9592\n",
            "Epoch 152/200\n",
            "24/24 [==============================] - 0s 1ms/step - loss: 0.0864 - accuracy: 0.9804\n",
            "Epoch 153/200\n",
            "24/24 [==============================] - 0s 1ms/step - loss: 0.0579 - accuracy: 0.9783\n",
            "Epoch 154/200\n",
            "24/24 [==============================] - 0s 1ms/step - loss: 0.0889 - accuracy: 0.9575\n",
            "Epoch 155/200\n",
            "24/24 [==============================] - 0s 1ms/step - loss: 0.1059 - accuracy: 0.9504\n",
            "Epoch 156/200\n",
            "24/24 [==============================] - 0s 1ms/step - loss: 0.0882 - accuracy: 0.9595\n",
            "Epoch 157/200\n",
            "24/24 [==============================] - 0s 1ms/step - loss: 0.0697 - accuracy: 0.9884\n",
            "Epoch 158/200\n",
            "24/24 [==============================] - 0s 1ms/step - loss: 0.1120 - accuracy: 0.9538\n",
            "Epoch 159/200\n",
            "24/24 [==============================] - 0s 1ms/step - loss: 0.0752 - accuracy: 0.9551\n",
            "Epoch 160/200\n",
            "24/24 [==============================] - 0s 1ms/step - loss: 0.1128 - accuracy: 0.9377\n",
            "Epoch 161/200\n",
            "24/24 [==============================] - 0s 1ms/step - loss: 0.1072 - accuracy: 0.9566\n",
            "Epoch 162/200\n",
            "24/24 [==============================] - 0s 1ms/step - loss: 0.0912 - accuracy: 0.9611\n",
            "Epoch 163/200\n",
            "24/24 [==============================] - 0s 1ms/step - loss: 0.1057 - accuracy: 0.9618\n",
            "Epoch 164/200\n",
            "24/24 [==============================] - 0s 1ms/step - loss: 0.0787 - accuracy: 0.9621\n",
            "Epoch 165/200\n",
            "24/24 [==============================] - 0s 1ms/step - loss: 0.0918 - accuracy: 0.9735\n",
            "Epoch 166/200\n",
            "24/24 [==============================] - 0s 1ms/step - loss: 0.1071 - accuracy: 0.9553\n",
            "Epoch 167/200\n",
            "24/24 [==============================] - 0s 1ms/step - loss: 0.1057 - accuracy: 0.9517\n",
            "Epoch 168/200\n",
            "24/24 [==============================] - 0s 2ms/step - loss: 0.0743 - accuracy: 0.9737\n",
            "Epoch 169/200\n",
            "24/24 [==============================] - 0s 1ms/step - loss: 0.0557 - accuracy: 0.9790\n",
            "Epoch 170/200\n",
            "24/24 [==============================] - 0s 1ms/step - loss: 0.0817 - accuracy: 0.9672\n",
            "Epoch 171/200\n",
            "24/24 [==============================] - 0s 1ms/step - loss: 0.1242 - accuracy: 0.9485\n",
            "Epoch 172/200\n",
            "24/24 [==============================] - 0s 1ms/step - loss: 0.0938 - accuracy: 0.9517\n",
            "Epoch 173/200\n",
            "24/24 [==============================] - 0s 1ms/step - loss: 0.0924 - accuracy: 0.9762\n",
            "Epoch 174/200\n",
            "24/24 [==============================] - 0s 1ms/step - loss: 0.0957 - accuracy: 0.9638\n",
            "Epoch 175/200\n",
            "24/24 [==============================] - 0s 2ms/step - loss: 0.0799 - accuracy: 0.9567\n",
            "Epoch 176/200\n",
            "24/24 [==============================] - 0s 1ms/step - loss: 0.1051 - accuracy: 0.9596\n",
            "Epoch 177/200\n",
            "24/24 [==============================] - 0s 1ms/step - loss: 0.1460 - accuracy: 0.9183\n",
            "Epoch 178/200\n",
            "24/24 [==============================] - 0s 1ms/step - loss: 0.0992 - accuracy: 0.9646\n",
            "Epoch 179/200\n",
            "24/24 [==============================] - 0s 2ms/step - loss: 0.0726 - accuracy: 0.9668\n",
            "Epoch 180/200\n",
            "24/24 [==============================] - 0s 1ms/step - loss: 0.0832 - accuracy: 0.9732\n",
            "Epoch 181/200\n",
            "24/24 [==============================] - 0s 1ms/step - loss: 0.0807 - accuracy: 0.9667\n",
            "Epoch 182/200\n",
            "24/24 [==============================] - 0s 1ms/step - loss: 0.0917 - accuracy: 0.9540\n",
            "Epoch 183/200\n",
            "24/24 [==============================] - 0s 1ms/step - loss: 0.0703 - accuracy: 0.9771\n",
            "Epoch 184/200\n",
            "24/24 [==============================] - 0s 1ms/step - loss: 0.0966 - accuracy: 0.9714\n",
            "Epoch 185/200\n",
            "24/24 [==============================] - 0s 1ms/step - loss: 0.0700 - accuracy: 0.9768\n",
            "Epoch 186/200\n",
            "24/24 [==============================] - 0s 2ms/step - loss: 0.0684 - accuracy: 0.9689\n",
            "Epoch 187/200\n",
            "24/24 [==============================] - 0s 1ms/step - loss: 0.0758 - accuracy: 0.9627\n",
            "Epoch 188/200\n",
            "24/24 [==============================] - 0s 1ms/step - loss: 0.0803 - accuracy: 0.9675\n",
            "Epoch 189/200\n",
            "24/24 [==============================] - 0s 1ms/step - loss: 0.0687 - accuracy: 0.9660\n",
            "Epoch 190/200\n",
            "24/24 [==============================] - 0s 1ms/step - loss: 0.0710 - accuracy: 0.9691\n",
            "Epoch 191/200\n",
            "24/24 [==============================] - 0s 1ms/step - loss: 0.0832 - accuracy: 0.9678\n",
            "Epoch 192/200\n",
            "24/24 [==============================] - 0s 1ms/step - loss: 0.0504 - accuracy: 0.9761\n",
            "Epoch 193/200\n",
            "24/24 [==============================] - 0s 1ms/step - loss: 0.0811 - accuracy: 0.9626\n",
            "Epoch 194/200\n",
            "24/24 [==============================] - 0s 1ms/step - loss: 0.0707 - accuracy: 0.9673\n",
            "Epoch 195/200\n",
            "24/24 [==============================] - 0s 1ms/step - loss: 0.0604 - accuracy: 0.9613\n",
            "Epoch 196/200\n",
            "24/24 [==============================] - 0s 1ms/step - loss: 0.1337 - accuracy: 0.9381\n",
            "Epoch 197/200\n",
            "24/24 [==============================] - 0s 1ms/step - loss: 0.0408 - accuracy: 0.9924\n",
            "Epoch 198/200\n",
            "24/24 [==============================] - 0s 1ms/step - loss: 0.0841 - accuracy: 0.9818\n",
            "Epoch 199/200\n",
            "24/24 [==============================] - 0s 1ms/step - loss: 0.0492 - accuracy: 0.9892\n",
            "Epoch 200/200\n",
            "24/24 [==============================] - 0s 1ms/step - loss: 0.0882 - accuracy: 0.9603\n"
          ],
          "name": "stdout"
        },
        {
          "output_type": "execute_result",
          "data": {
            "text/plain": [
              "<tensorflow.python.keras.callbacks.History at 0x7f28730fe0b8>"
            ]
          },
          "metadata": {
            "tags": []
          },
          "execution_count": 9
        }
      ]
    },
    {
      "cell_type": "code",
      "metadata": {
        "colab": {
          "base_uri": "https://localhost:8080/"
        },
        "id": "gou1FGnF4qIq",
        "outputId": "8611f333-f834-428e-8b4e-8f1401f5094b"
      },
      "source": [
        "model.evaluate(x_test, y_test)"
      ],
      "execution_count": 11,
      "outputs": [
        {
          "output_type": "stream",
          "text": [
            "1/1 [==============================] - 0s 147ms/step - loss: 0.0115 - accuracy: 1.0000\n"
          ],
          "name": "stdout"
        },
        {
          "output_type": "execute_result",
          "data": {
            "text/plain": [
              "[0.011469917371869087, 1.0]"
            ]
          },
          "metadata": {
            "tags": []
          },
          "execution_count": 11
        }
      ]
    },
    {
      "cell_type": "code",
      "metadata": {
        "colab": {
          "base_uri": "https://localhost:8080/"
        },
        "id": "Oill_pFt415M",
        "outputId": "bfcb9354-e485-420d-db58-e887cf65725c"
      },
      "source": [
        "model.evaluate(x_train, y_train)"
      ],
      "execution_count": 13,
      "outputs": [
        {
          "output_type": "stream",
          "text": [
            "4/4 [==============================] - 0s 2ms/step - loss: 0.0739 - accuracy: 0.9667\n"
          ],
          "name": "stdout"
        },
        {
          "output_type": "execute_result",
          "data": {
            "text/plain": [
              "[0.07388318330049515, 0.9666666388511658]"
            ]
          },
          "metadata": {
            "tags": []
          },
          "execution_count": 13
        }
      ]
    }
  ]
}